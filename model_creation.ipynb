{
 "cells": [
  {
   "cell_type": "code",
   "execution_count": 1,
   "metadata": {},
   "outputs": [
    {
     "name": "stderr",
     "output_type": "stream",
     "text": [
      "c:\\Users\\ajspr\\miniconda3\\envs\\tf\\lib\\site-packages\\tqdm\\auto.py:21: TqdmWarning: IProgress not found. Please update jupyter and ipywidgets. See https://ipywidgets.readthedocs.io/en/stable/user_install.html\n",
      "  from .autonotebook import tqdm as notebook_tqdm\n"
     ]
    }
   ],
   "source": [
    "# Imports\n",
    "import pandas as pd\n",
    "import numpy as np\n",
    "import matplotlib.pyplot as plt\n",
    "\n",
    "import tensorflow as tf\n",
    "import tensorflow_datasets as tfds"
   ]
  },
  {
   "cell_type": "code",
   "execution_count": 2,
   "metadata": {},
   "outputs": [
    {
     "name": "stdout",
     "output_type": "stream",
     "text": [
      "0        i just feel really helpless and heavy hearted\n",
      "1    ive enjoyed being able to slouch about relax a...\n",
      "2    i gave up my internship with the dmrg and am f...\n",
      "3                           i dont know i feel so lost\n",
      "4    i am a kindergarten teacher and i am thoroughl...\n",
      "Name: text, dtype: object\n"
     ]
    }
   ],
   "source": [
    "# Vreate Dataframe from text_and_sentiment.csv, obtained from https://www.kaggle.com/datasets/nelgiriyewithana/emotions/data by NIDULA ELGIRIYEWITHANA\n",
    "df = pd.read_csv('text_and_sentiment.csv', index_col=0)\n",
    "df.head()\n",
    "\n",
    "\n",
    "df_x = df['text']\n",
    "\n",
    "df_y = tf.keras.utils.to_categorical(df['label'], 6)\n",
    "\n",
    "print(df_x[:5])"
   ]
  },
  {
   "cell_type": "code",
   "execution_count": 3,
   "metadata": {},
   "outputs": [
    {
     "data": {
      "text/plain": [
       "(TensorSpec(shape=(), dtype=tf.string, name=None),\n",
       " TensorSpec(shape=(6,), dtype=tf.float32, name=None))"
      ]
     },
     "execution_count": 3,
     "metadata": {},
     "output_type": "execute_result"
    }
   ],
   "source": [
    "# Create training data with first 80 percent of dataset, validation with the next 10 percent, and test with the last 10 percent\n",
    "len_train = int(np.floor(len(df_x) * .8))\n",
    "len_val = int(np.floor(len(df_x) * .1))\n",
    "x_train = df_x[: len_train]\n",
    "y_train = df_y[: len_train]\n",
    "x_val = df_x[len_train : len_train + len_val ]\n",
    "y_val = df_y[len_train : len_train + len_val ]\n",
    "x_test = df_x[len_train + len_val:]\n",
    "y_test = df_y[len_train + len_val:]\n",
    "\n",
    "\n",
    "\n",
    "# Convert pandas dataframes to tensorflow datasets\n",
    "ds_train = tf.data.Dataset.from_tensor_slices((x_train, y_train))\n",
    "ds_val = tf.data.Dataset.from_tensor_slices((x_val, y_val))\n",
    "ds_test = tf.data.Dataset.from_tensor_slices((x_test, y_test))\n",
    "\n",
    "ds_train.element_spec"
   ]
  },
  {
   "cell_type": "code",
   "execution_count": 4,
   "metadata": {},
   "outputs": [],
   "source": [
    "# Shuffle and batch training data to avoid any sorting bias in data during creation, batch validation data\n",
    "\n",
    "BUFFER_SIZE = 10000\n",
    "BATCH_SIZE = 64\n",
    "\n",
    "ds_train = ds_train.shuffle(BUFFER_SIZE).batch(BATCH_SIZE).prefetch(tf.data.AUTOTUNE)\n",
    "ds_val = ds_val.batch(BATCH_SIZE).prefetch(tf.data.AUTOTUNE)\n",
    "ds_test = ds_test.batch(BATCH_SIZE).prefetch(tf.data.AUTOTUNE)"
   ]
  },
  {
   "cell_type": "code",
   "execution_count": 5,
   "metadata": {},
   "outputs": [],
   "source": [
    "# Create encoder to vectorize text with a potential vocabulary of\n",
    "VOCAB_SIZE = 1000\n",
    "encoder = tf.keras.layers.TextVectorization(\n",
    "    max_tokens=VOCAB_SIZE\n",
    ")\n",
    "encoder.adapt(ds_train.map(lambda text, label:text))"
   ]
  },
  {
   "cell_type": "code",
   "execution_count": 6,
   "metadata": {},
   "outputs": [
    {
     "data": {
      "text/plain": [
       "array(['', '[UNK]', 'i', 'feel', 'and', 'to', 'the', 'a', 'feeling',\n",
       "       'that', 'of', 'my', 'in', 'it', 'like', 'so', 'for', 'im', 'have',\n",
       "       'me'], dtype='<U13')"
      ]
     },
     "execution_count": 6,
     "metadata": {},
     "output_type": "execute_result"
    }
   ],
   "source": [
    "vocab = np.array(encoder.get_vocabulary())\n",
    "vocab[:20]"
   ]
  },
  {
   "cell_type": "code",
   "execution_count": 7,
   "metadata": {},
   "outputs": [
    {
     "name": "stdout",
     "output_type": "stream",
     "text": [
      "texts:  [b'i dont know why i feel like a supporting character in my own life'\n",
      " b'im used to feeling helpless'\n",
      " b'i do have a feeling or maybe im just hoping that rich will use his step daughter moving in with her dogs and cats'\n",
      " b'i feel horrible for families that cant afford insurance or have inadequate insurance'\n",
      " b'i will enjoy feeling bouncy and hope that what i have done up to now will be enough'\n",
      " b'i decided to change into my jeans instead of my swim shorts because my legs were feeling hot and looking red despite the three times id put sunscreen on them'\n",
      " b'i am hopeful that normalcy is just around the corner grateful for how far i have come and feeling very blessed that although this sucks i am here to write about it'\n",
      " b'i have to sit up blow my nose and feel more miserable than ever'\n",
      " b'im feeling pissed off and abandoned'\n",
      " b'im perfectly happy with just being me and accepting my natural body shape as opposed to starving myself to obtain something that isnt natural to my body and its also important for people who are naturally skinny to not feel pressured into putting on weight due to being ridiculed for being slim'\n",
      " b'i feel its pretty dramatized'\n",
      " b'i feel like i was being punished for defending myself lee says'\n",
      " b'i feel so useless and i look forward to functioning at least semi normally'\n",
      " b'marriage crises boredom'\n",
      " b'i am happy to report that despite feeling a twinge of melancholy and sentimentality over the years events my life has never been better'\n",
      " b'i was at a job and did not feel respected i would quit and move on to a new job'\n",
      " b'i went back to old patterns expecting only to feel disappointed and sad'\n",
      " b'i feel like im sorta pressuring her to go but she reassured me that she does want to go'\n",
      " b'i did feel sympathetic that he was by himself'\n",
      " b'ive feeling a little blank and could think of nothing to write about which might be interesting to explore or had my mind captivated'\n",
      " b'i had suppressed my homosexual feelings so much that i replaced them with what i thought would be socially acceptable'\n",
      " b'i had a feeling that it wouldn t remove the glitter and i m actually impressed over how much of the glitter it really did remove'\n",
      " b'i feel really lucky to have a great'\n",
      " b'i still am feeling impatient to go back home'\n",
      " b'i dunno whether he has forgotten yw but i decided to go for a try as i dun wanna feel regretful'\n",
      " b'i feel the leaves under my fingertips the sweet taste of berries still on my lips the most beautiful thing right outside the last days of summer passing us by'\n",
      " b'i spent a little more time perusing the offerings even though im feeling a little broke there were some new books that the one website was hawking just to me due to my search criteria'\n",
      " b'i feel that people can tell what s real and what s fake and real images have so much more force'\n",
      " b'i am not feeling regretful because i know this is my standard amp i have done my best and put in my efforts'\n",
      " b'i feel like a selfish self centered piece of garbage'\n",
      " b'i just feel lame because i put on makeup and dont have anywhere to really go'\n",
      " b'i don t know how to feel i m trying to stay optimistic that it won t be like the other shoe store'\n",
      " b'i feel as if im all uptight'\n",
      " b'i imagine that there will be more times when i feel afraid about bangladesh and many other things in life'\n",
      " b'im feeling a tad bit violent'\n",
      " b'i shouldn t be feeling angry i shouldn t care that he is in town'\n",
      " b'i don t know why she feels so uncertain about this and i don t know how to ask without making a total idiot out of myself'\n",
      " b'i woke up feeling hopeful'\n",
      " b'i could totally feel sympathetic for her already after hearing that'\n",
      " b'i probably should write my sloth poem today since i feel so tierd and listless'\n",
      " b'i sauntered through the shopping precinct and the malls in reading a large town some eleven miles from my home town of bracknell and reached by a short train ride i could not help the feeling of casual sense of relaxation and the feeling of ease among the shoppers as they sauntered by'\n",
      " b'i know ive been called a neville but you know what i am a realist i know that not everyone will get along and that people will feel the way they feel but i have always been truthful with everyone i deal with'\n",
      " b'im finding this tool great for me as i had been feeling a little isolated in my current post and its helping me to keep up to date with what else is going on in the library profession'\n",
      " b'i feel you breath in deeply and your body aching for more'\n",
      " b'i feel less foolish putting my whole self out there'\n",
      " b'im feeling socially awkward and counter cultural and freakish and am trying not to eat piles and buckets of food that will do me no good whatsoever please help me stay connected to the only one that can get me through my little crisis'\n",
      " b'i start to look at myself differently when i feel depressed and my emotions make me feel like i really am fat'\n",
      " b'i feel i touch lives an opportunity i am blessed to have'\n",
      " b'i get this wierd feeling when i am going to sleep funny photo width height i get this wierd feeling when i am going to sleep funny photo'\n",
      " b'i have been wanting to write about a secret life i live one that only a handful of people know about one i keep secret and one that i feel embarrassed about even though i know it is perfectly human normal and deep down i feel it is right'\n",
      " b'i feel antsy and dissatisfied and anxious without really knowing why'\n",
      " b'i feel quite frustrated that not many people seem to be concerned or at least don t appreciate that it is serious'\n",
      " b'i feel like tragic is such a fucking strong word'\n",
      " b'i loved feeling cute and pretty badass every time i saddled up on my ridiculously multicolored bike'\n",
      " b'i cant run anymore due to injury i jumped on my exercise bike instead for mins while they had there breaky and then i got them ready for school did drop offs and i came straight home and jumped on my treadmill and walked mins following another mins on my bike and i feel fabulous'\n",
      " b'i will then face how it is me who wants to play games and who feels agitated for having to study instead'\n",
      " b'i feel so cold and empty as i look out of the window into the grey which is the rain'\n",
      " b'i discovered these sometime ago and fell in love with the toffee peanut butter which feels completely naughty when you eat it but considering it contains g of added protein per serving it fills you up completely so you are satisfied with less'\n",
      " b'i started feeling terrified'\n",
      " b'im feeling particularly neurotic tonight'\n",
      " b'i can even say my opinion on something without him feel offended'\n",
      " b'i am feeling stressed that i will go blank and not be able to perform the day we do our exams'\n",
      " b'i feel that this isnt the atmosphere that we want to create since the show will be about the street and the street is always lively exciting and full of life'\n",
      " b'i feel like i want to do lots of naughty']\n",
      "\n",
      "labels:  [[0. 1. 0. 0. 0. 0.]\n",
      " [0. 0. 0. 0. 1. 0.]\n",
      " [0. 1. 0. 0. 0. 0.]\n",
      " [1. 0. 0. 0. 0. 0.]\n",
      " [0. 1. 0. 0. 0. 0.]\n",
      " [0. 0. 1. 0. 0. 0.]\n",
      " [0. 0. 1. 0. 0. 0.]\n",
      " [1. 0. 0. 0. 0. 0.]\n",
      " [0. 0. 0. 1. 0. 0.]\n",
      " [0. 0. 0. 0. 1. 0.]\n",
      " [0. 1. 0. 0. 0. 0.]\n",
      " [1. 0. 0. 0. 0. 0.]\n",
      " [1. 0. 0. 0. 0. 0.]\n",
      " [1. 0. 0. 0. 0. 0.]\n",
      " [1. 0. 0. 0. 0. 0.]\n",
      " [0. 1. 0. 0. 0. 0.]\n",
      " [1. 0. 0. 0. 0. 0.]\n",
      " [0. 1. 0. 0. 0. 0.]\n",
      " [0. 0. 1. 0. 0. 0.]\n",
      " [1. 0. 0. 0. 0. 0.]\n",
      " [0. 1. 0. 0. 0. 0.]\n",
      " [0. 0. 0. 0. 0. 1.]\n",
      " [0. 1. 0. 0. 0. 0.]\n",
      " [0. 0. 0. 1. 0. 0.]\n",
      " [1. 0. 0. 0. 0. 0.]\n",
      " [0. 0. 1. 0. 0. 0.]\n",
      " [1. 0. 0. 0. 0. 0.]\n",
      " [1. 0. 0. 0. 0. 0.]\n",
      " [1. 0. 0. 0. 0. 0.]\n",
      " [0. 0. 0. 1. 0. 0.]\n",
      " [1. 0. 0. 0. 0. 0.]\n",
      " [0. 1. 0. 0. 0. 0.]\n",
      " [0. 0. 0. 0. 1. 0.]\n",
      " [0. 0. 0. 0. 1. 0.]\n",
      " [0. 0. 0. 1. 0. 0.]\n",
      " [0. 0. 0. 1. 0. 0.]\n",
      " [0. 0. 0. 0. 1. 0.]\n",
      " [0. 1. 0. 0. 0. 0.]\n",
      " [0. 0. 1. 0. 0. 0.]\n",
      " [1. 0. 0. 0. 0. 0.]\n",
      " [0. 1. 0. 0. 0. 0.]\n",
      " [0. 1. 0. 0. 0. 0.]\n",
      " [1. 0. 0. 0. 0. 0.]\n",
      " [1. 0. 0. 0. 0. 0.]\n",
      " [1. 0. 0. 0. 0. 0.]\n",
      " [1. 0. 0. 0. 0. 0.]\n",
      " [1. 0. 0. 0. 0. 0.]\n",
      " [0. 0. 1. 0. 0. 0.]\n",
      " [0. 0. 0. 0. 0. 1.]\n",
      " [1. 0. 0. 0. 0. 0.]\n",
      " [0. 0. 0. 1. 0. 0.]\n",
      " [0. 0. 0. 1. 0. 0.]\n",
      " [1. 0. 0. 0. 0. 0.]\n",
      " [0. 1. 0. 0. 0. 0.]\n",
      " [0. 1. 0. 0. 0. 0.]\n",
      " [0. 0. 0. 1. 0. 0.]\n",
      " [0. 0. 0. 1. 0. 0.]\n",
      " [0. 0. 1. 0. 0. 0.]\n",
      " [0. 0. 0. 0. 1. 0.]\n",
      " [0. 0. 0. 0. 1. 0.]\n",
      " [0. 0. 0. 1. 0. 0.]\n",
      " [1. 0. 0. 0. 0. 0.]\n",
      " [0. 1. 0. 0. 0. 0.]\n",
      " [0. 0. 1. 0. 0. 0.]]\n"
     ]
    }
   ],
   "source": [
    "for example, label in ds_train.take(1):\n",
    "  print('texts: ', example.numpy())\n",
    "  print()\n",
    "  print('labels: ', label.numpy())"
   ]
  },
  {
   "cell_type": "code",
   "execution_count": 8,
   "metadata": {},
   "outputs": [],
   "source": [
    "# Create RNN model \n",
    "model = tf.keras.Sequential([\n",
    "    encoder,\n",
    "    # Encodes input text into vector form\n",
    "    tf.keras.layers.Embedding(\n",
    "        input_dim=len(encoder.get_vocabulary()),\n",
    "        output_dim=64,\n",
    "        # Sets inputs and hidden states to zero to allow for variable lengt inputs\n",
    "        mask_zero=True\n",
    "    ),\n",
    "    # Using a Bidirectional Long Short-Term Memory Layer to allow words at beginning and end to equally affect the sentiment of the text\n",
    "    tf.keras.layers.Bidirectional(tf.keras.layers.LSTM(64, return_sequences=True)),\n",
    "    tf.keras.layers.Bidirectional(tf.keras.layers.LSTM(32)),\n",
    "    tf.keras.layers.Dense(64, activation='relu'),\n",
    "    tf.keras.layers.Dropout(0.5),\n",
    "    tf.keras.layers.Dense(6, activation='softmax')\n",
    "])"
   ]
  },
  {
   "cell_type": "code",
   "execution_count": 9,
   "metadata": {},
   "outputs": [
    {
     "name": "stdout",
     "output_type": "stream",
     "text": [
      "1/1 [==============================] - 4s 4s/step\n",
      "[0.16547187 0.16663423 0.16435453 0.16774139 0.16819467 0.16760333]\n"
     ]
    }
   ],
   "source": [
    "# Test\n",
    "sample_text = (\"Wow! Creating a Recurrent Neural Network is fun!\")\n",
    "\n",
    "predictions = model.predict(np.array([sample_text]))\n",
    "\n",
    "print(predictions[0])"
   ]
  },
  {
   "cell_type": "code",
   "execution_count": 10,
   "metadata": {},
   "outputs": [
    {
     "name": "stdout",
     "output_type": "stream",
     "text": [
      "1/1 [==============================] - 0s 367ms/step\n",
      "[0.16547185 0.16663423 0.16435453 0.16774139 0.16819467 0.16760333]\n"
     ]
    }
   ],
   "source": [
    "# Test with padding\n",
    "padding = \"the \" * 2000\n",
    "\n",
    "predictions = model.predict(np.array([sample_text, padding]))\n",
    "\n",
    "print(predictions[0])"
   ]
  },
  {
   "cell_type": "code",
   "execution_count": 11,
   "metadata": {},
   "outputs": [],
   "source": [
    "# Using categorical crossentropy loss function to accomodate outputs from 0-5\n",
    "model.compile(loss=tf.keras.losses.CategoricalCrossentropy(),\n",
    "              optimizer=tf.keras.optimizers.Adam(1e-4),\n",
    "              metrics=['accuracy'])\n"
   ]
  },
  {
   "cell_type": "code",
   "execution_count": 12,
   "metadata": {},
   "outputs": [
    {
     "name": "stdout",
     "output_type": "stream",
     "text": [
      "Epoch 1/10\n"
     ]
    },
    {
     "name": "stdout",
     "output_type": "stream",
     "text": [
      "5211/5211 [==============================] - 1248s 237ms/step - loss: 0.8250 - accuracy: 0.6856 - val_loss: 0.4696 - val_accuracy: 0.8380\n",
      "Epoch 2/10\n",
      "5211/5211 [==============================] - 1250s 240ms/step - loss: 0.4392 - accuracy: 0.8466 - val_loss: 0.3682 - val_accuracy: 0.8562\n",
      "Epoch 3/10\n",
      "5211/5211 [==============================] - 1305s 250ms/step - loss: 0.3673 - accuracy: 0.8633 - val_loss: 0.3288 - val_accuracy: 0.8703\n",
      "Epoch 4/10\n",
      "5211/5211 [==============================] - 1366s 262ms/step - loss: 0.3284 - accuracy: 0.8713 - val_loss: 0.2964 - val_accuracy: 0.8771\n",
      "Epoch 5/10\n",
      "5211/5211 [==============================] - 1382s 265ms/step - loss: 0.3088 - accuracy: 0.8748 - val_loss: 0.2794 - val_accuracy: 0.8760\n",
      "Epoch 6/10\n",
      "5211/5211 [==============================] - 1329s 255ms/step - loss: 0.2957 - accuracy: 0.8776 - val_loss: 0.2656 - val_accuracy: 0.8771\n",
      "Epoch 7/10\n",
      "5211/5211 [==============================] - 1288s 247ms/step - loss: 0.2857 - accuracy: 0.8789 - val_loss: 0.2587 - val_accuracy: 0.8797\n",
      "Epoch 8/10\n",
      "5211/5211 [==============================] - 1301s 250ms/step - loss: 0.2766 - accuracy: 0.8807 - val_loss: 0.2594 - val_accuracy: 0.8745\n",
      "Epoch 9/10\n",
      "5211/5211 [==============================] - 1306s 251ms/step - loss: 0.2694 - accuracy: 0.8818 - val_loss: 0.2566 - val_accuracy: 0.8802\n",
      "Epoch 10/10\n",
      "5211/5211 [==============================] - 1323s 254ms/step - loss: 0.2635 - accuracy: 0.8825 - val_loss: 0.2541 - val_accuracy: 0.8771\n"
     ]
    }
   ],
   "source": [
    "history = model.fit(ds_train, epochs=10,\n",
    "                    validation_data=ds_val,\n",
    "                    validation_steps=30)"
   ]
  },
  {
   "cell_type": "code",
   "execution_count": 13,
   "metadata": {},
   "outputs": [
    {
     "name": "stdout",
     "output_type": "stream",
     "text": [
      "<PrefetchDataset element_spec=(TensorSpec(shape=(None,), dtype=tf.string, name=None), TensorSpec(shape=(None, 6), dtype=tf.float32, name=None))>\n",
      "652/652 [==============================] - 61s 93ms/step - loss: 0.2568 - accuracy: 0.8802\n",
      "Test Loss: 0.2568303048610687\n",
      "Test Accuracy: 0.8801583647727966\n"
     ]
    }
   ],
   "source": [
    "print(ds_val)\n",
    "test_loss, test_acc = model.evaluate(ds_val)\n",
    "\n",
    "print('Test Loss:', test_loss)\n",
    "print('Test Accuracy:', test_acc)"
   ]
  },
  {
   "cell_type": "code",
   "execution_count": 42,
   "metadata": {},
   "outputs": [
    {
     "name": "stderr",
     "output_type": "stream",
     "text": [
      "WARNING:absl:Found untraced functions such as lstm_cell_1_layer_call_fn, lstm_cell_1_layer_call_and_return_conditional_losses, lstm_cell_2_layer_call_fn, lstm_cell_2_layer_call_and_return_conditional_losses, lstm_cell_4_layer_call_fn while saving (showing 5 of 8). These functions will not be directly callable after loading.\n"
     ]
    },
    {
     "name": "stdout",
     "output_type": "stream",
     "text": [
      "INFO:tensorflow:Assets written to: ./sentiment_model\\assets\n"
     ]
    },
    {
     "name": "stderr",
     "output_type": "stream",
     "text": [
      "INFO:tensorflow:Assets written to: ./sentiment_model\\assets\n"
     ]
    }
   ],
   "source": [
    "tf.keras.models.save_model(model, filepath=\"./sentiment_model\")"
   ]
  },
  {
   "cell_type": "code",
   "execution_count": 43,
   "metadata": {},
   "outputs": [],
   "source": [
    "savedModel = tf.keras.models.load_model(\"./sentiment_model\")"
   ]
  },
  {
   "cell_type": "code",
   "execution_count": 44,
   "metadata": {},
   "outputs": [
    {
     "name": "stdout",
     "output_type": "stream",
     "text": [
      "<PrefetchDataset element_spec=(TensorSpec(shape=(None,), dtype=tf.string, name=None), TensorSpec(shape=(None, 6), dtype=tf.float32, name=None))>\n",
      "652/652 [==============================] - 76s 109ms/step - loss: 0.2568 - accuracy: 0.8802\n",
      "Test Loss: 0.2568303048610687\n",
      "Test Accuracy: 0.8801583647727966\n"
     ]
    }
   ],
   "source": [
    "print(ds_val)\n",
    "test_loss, test_acc = savedModel.evaluate(ds_val)\n",
    "\n",
    "print('Test Loss:', test_loss)\n",
    "print('Test Accuracy:', test_acc)"
   ]
  },
  {
   "cell_type": "code",
   "execution_count": null,
   "metadata": {},
   "outputs": [],
   "source": []
  }
 ],
 "metadata": {
  "kernelspec": {
   "display_name": "tf",
   "language": "python",
   "name": "python3"
  },
  "language_info": {
   "codemirror_mode": {
    "name": "ipython",
    "version": 3
   },
   "file_extension": ".py",
   "mimetype": "text/x-python",
   "name": "python",
   "nbconvert_exporter": "python",
   "pygments_lexer": "ipython3",
   "version": "3.10.13"
  }
 },
 "nbformat": 4,
 "nbformat_minor": 2
}
